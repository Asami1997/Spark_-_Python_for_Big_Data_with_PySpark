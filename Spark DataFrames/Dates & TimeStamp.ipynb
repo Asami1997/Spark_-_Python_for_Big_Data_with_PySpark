{
 "cells": [
  {
   "cell_type": "code",
   "execution_count": 3,
   "metadata": {},
   "outputs": [],
   "source": [
    "from pyspark.sql import SparkSession,functions as f"
   ]
  },
  {
   "cell_type": "code",
   "execution_count": 4,
   "metadata": {},
   "outputs": [],
   "source": [
    "spark = SparkSession.builder.appName('dates').getOrCreate()"
   ]
  },
  {
   "cell_type": "code",
   "execution_count": 5,
   "metadata": {},
   "outputs": [],
   "source": [
    "df = spark.read.csv('appl_stock.csv',inferSchema = True,\n",
    "                    header = True)"
   ]
  },
  {
   "cell_type": "code",
   "execution_count": 7,
   "metadata": {},
   "outputs": [
    {
     "name": "stdout",
     "output_type": "stream",
     "text": [
      "root\n",
      " |-- Date: string (nullable = true)\n",
      " |-- Open: double (nullable = true)\n",
      " |-- High: double (nullable = true)\n",
      " |-- Low: double (nullable = true)\n",
      " |-- Close: double (nullable = true)\n",
      " |-- Volume: integer (nullable = true)\n",
      " |-- Adj Close: double (nullable = true)\n",
      "\n"
     ]
    }
   ],
   "source": [
    "df.printSchema()"
   ]
  },
  {
   "cell_type": "code",
   "execution_count": 9,
   "metadata": {},
   "outputs": [
    {
     "name": "stdout",
     "output_type": "stream",
     "text": [
      "+----------+\n",
      "|      Date|\n",
      "+----------+\n",
      "|2010-01-04|\n",
      "|2010-01-05|\n",
      "|2010-01-06|\n",
      "|2010-01-07|\n",
      "|2010-01-08|\n",
      "+----------+\n",
      "only showing top 5 rows\n",
      "\n"
     ]
    }
   ],
   "source": [
    "df.select(['Date']).show(5)"
   ]
  },
  {
   "cell_type": "code",
   "execution_count": 14,
   "metadata": {},
   "outputs": [
    {
     "name": "stdout",
     "output_type": "stream",
     "text": [
      "+-----------+\n",
      "|month(Date)|\n",
      "+-----------+\n",
      "|         12|\n",
      "|          1|\n",
      "|          6|\n",
      "|          3|\n",
      "|          5|\n",
      "|          9|\n",
      "|          4|\n",
      "|          8|\n",
      "|          7|\n",
      "|         10|\n",
      "|         11|\n",
      "|          2|\n",
      "+-----------+\n",
      "\n"
     ]
    }
   ],
   "source": [
    "# example of some functions to use with datetime\n",
    "#f.dayofyear ()\n",
    "#f.dayofweek()\n",
    "#f.hour()\n",
    "#f.month()\n",
    "df.select(f.month('Date')).distinct().show()"
   ]
  },
  {
   "cell_type": "code",
   "execution_count": 19,
   "metadata": {},
   "outputs": [
    {
     "name": "stdout",
     "output_type": "stream",
     "text": [
      "+----------+\n",
      "|year(Date)|\n",
      "+----------+\n",
      "|      2010|\n",
      "|      2011|\n",
      "|      2012|\n",
      "|      2013|\n",
      "|      2014|\n",
      "|      2015|\n",
      "|      2016|\n",
      "+----------+\n",
      "\n"
     ]
    }
   ],
   "source": [
    "df.select(f.year('Date')).distinct().orderBy('Date').show()"
   ]
  },
  {
   "cell_type": "code",
   "execution_count": 30,
   "metadata": {},
   "outputs": [],
   "source": [
    "result = df.select([f.year('date').alias('date'),'close']).groupby('date').\\\n",
    "agg({'close':'avg'})"
   ]
  },
  {
   "cell_type": "code",
   "execution_count": 34,
   "metadata": {},
   "outputs": [],
   "source": [
    "new = result.withColumnRenamed('avg(close)','Avg_Closing_Price')"
   ]
  },
  {
   "cell_type": "code",
   "execution_count": 40,
   "metadata": {},
   "outputs": [
    {
     "name": "stdout",
     "output_type": "stream",
     "text": [
      "+----+-----------------+\n",
      "|Year|Avg_Closing_Price|\n",
      "+----+-----------------+\n",
      "|2015|           120.04|\n",
      "|2013|           472.63|\n",
      "|2014|           295.40|\n",
      "|2012|           576.05|\n",
      "|2016|           104.60|\n",
      "|2010|           259.84|\n",
      "|2011|           364.00|\n",
      "+----+-----------------+\n",
      "\n"
     ]
    }
   ],
   "source": [
    "#format the number\n",
    "new.select([f.col('date').alias('Year'),\\\n",
    "            f.format_number('Avg_Closing_Price',2).alias('Avg_Closing_Price')]).show()"
   ]
  },
  {
   "cell_type": "code",
   "execution_count": null,
   "metadata": {},
   "outputs": [],
   "source": []
  }
 ],
 "metadata": {
  "kernelspec": {
   "display_name": "Python 3",
   "language": "python",
   "name": "python3"
  },
  "language_info": {
   "codemirror_mode": {
    "name": "ipython",
    "version": 3
   },
   "file_extension": ".py",
   "mimetype": "text/x-python",
   "name": "python",
   "nbconvert_exporter": "python",
   "pygments_lexer": "ipython3",
   "version": "3.8.10"
  }
 },
 "nbformat": 4,
 "nbformat_minor": 4
}
